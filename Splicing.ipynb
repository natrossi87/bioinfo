{
 "cells": [
  {
   "cell_type": "code",
   "execution_count": 1,
   "id": "cdea54ae",
   "metadata": {},
   "outputs": [
    {
     "name": "stdout",
     "output_type": "stream",
     "text": [
      "ATGCGTAGAGGATTGTCGTATGGCCGGCAGAAACAGCGTCCGCGTAGCGTATAGGCCATCGGACCAAGGAGCTGTTCTAGACGGACGTCGTATGATTCAACCGTTGTTGGCCAAGAACGTATTCCCGTGTCCTTGCCGCTTGCCGAGCTACCAGCACTTACACCCAGATTCATTAGCAGCTTGAGACGCTGAGACCTAGACACGTTCTACGTCAGATGCGATATGACCGCCTACATCTAATCCGTGCTGTCCACCCACGTAGCGACCTATTAGGTGCTTTGTTTATGCTTCATTCTTACGCTGGTTTACAGCCAAGTTGGGTGCGCACTTCACTAGCCATCGAGAGAAGAAGCGCCTGCTAGGGCTCGCGGGGTCCCAACTGTCGTAAAGAACATTGGACTAGGAAGTCGACAAACAAGCCATAAGAACTAGCCCGTTTGTCCGATCCAGTGGGATTAACTAGTTTCCGCCCTATAGGTTATTGCTGGCTCCCCCAACATACGAGGACAATTGGGATCTGCAGGGGGTTCCCTCACACTTCTTCTGTCTTACAATCGATCACGACATTATAGAATTAGTCCTCATTAAAACCGCGTACGCCTAATTCGAGTCGCCTGGGTCATATAACGACGGACGTTCTACATTCACGGTTGTAAACACTCAGTTAAAATTTAAAAAGGGGATCGCTTTGCGTCAGGATGGAAGCGATAGCCTGTTCAGGCTCTGCGACTGCCCGCGCTGTATAGATAGTATGAAGTTTATACGCGGATGGGATCATACGTACTAACACGGTGCCGTTCCTGCCTCCGTTTCAGCGTTGTCGCCTACCCGATCAACGGAGAACCGCGCATATTGTCCTAATTTTCAATCTAAACGTGTCTTTATGTCGGGAAGCGGCGCGCCAATTTAAGAATTTTATACGACCTGCACACTTGTTGTGAATGTAAACGTCCACACGTAA\n"
     ]
    }
   ],
   "source": [
    "with open (\"rosalind_splc.txt\", \"r\") as dataset:\n",
    "    data = dataset.readlines()\n",
    "    \n",
    "sequencias = []\n",
    "string = \"\"\n",
    "for line in data:\n",
    "    if line[0] == \">\":\n",
    "        if string != \"\":\n",
    "            sequencias.append(string)\n",
    "            string = \"\"\n",
    "    else:\n",
    "        string += line.strip().replace(\"\\n\", \"\")\n",
    "sequencias.append(string)\n",
    "\n",
    "DNA = sequencias[0]\n",
    "print(DNA)\n",
    "\n",
    "introns = []\n",
    "for seqs in sequencias[1:]:\n",
    "    introns.append(seqs)"
   ]
  },
  {
   "cell_type": "code",
   "execution_count": 2,
   "id": "36236156",
   "metadata": {},
   "outputs": [],
   "source": [
    "for intron in introns:\n",
    "    if intron in DNA:\n",
    "        DNA = DNA.replace(intron, \"\")"
   ]
  },
  {
   "cell_type": "code",
   "execution_count": 3,
   "id": "7f483db1",
   "metadata": {},
   "outputs": [
    {
     "name": "stdout",
     "output_type": "stream",
     "text": [
      "AUGCGUAGAGGAUUGUCGUAUAACAGCGUCCGCGUAGCGUAUAGGCCAUCGGACCAAGGAGCUGUUCUACCGUGUCCUUGCCGCUUGCCGAGCUACCAGCACUUACACCCAGAUUCAUUAGCAGCUGACCUAGACACGUUCUACGUCAGAUGCGAUAUGACCGCCUACAUCCCUAUUAGGUGCUUUGUUGCCAAGUUGGGUGCGCACUUCACUAGCCAUCGAGAGAAGAAGACUGUCGUAAAGAACAUUGGAAAACAAGCCAUAAGAACUAGCCCGUUUGUCCGAUCCAGUCAACAUACGAGGACAAUUGGGAUCUGCAGGGGGUUCCCUCACCUUACAAUCGAUCACGACAUUAUAGAAUUAGUCCUCAUUAAAACCACAUUCACGGUUGUAAACACUCAGUUAUUGCGUCAGGAUGGAAGCGAUAGCCUGUUCAGGCUCACGCGGAUGGGAUCAUACGUACUAACACGGUGCCGUUCCUGCCUCCGUUUCGAGAACCGCGCAUAUUGUCCUAAUGAAGCGGCGCGCCAAGUUGUGAAUGUAAACGUCCACACGUAA\n"
     ]
    }
   ],
   "source": [
    "RNA = DNA.replace(\"T\", \"U\")\n",
    "\n",
    "print (RNA)"
   ]
  },
  {
   "cell_type": "code",
   "execution_count": 4,
   "id": "7ed2396f",
   "metadata": {},
   "outputs": [
    {
     "name": "stdout",
     "output_type": "stream",
     "text": [
      "['AUG', 'CGU', 'AGA', 'GGA', 'UUG', 'UCG', 'UAU', 'AAC', 'AGC', 'GUC', 'CGC', 'GUA', 'GCG', 'UAU', 'AGG', 'CCA', 'UCG', 'GAC', 'CAA', 'GGA', 'GCU', 'GUU', 'CUA', 'CCG', 'UGU', 'CCU', 'UGC', 'CGC', 'UUG', 'CCG', 'AGC', 'UAC', 'CAG', 'CAC', 'UUA', 'CAC', 'CCA', 'GAU', 'UCA', 'UUA', 'GCA', 'GCU', 'GAC', 'CUA', 'GAC', 'ACG', 'UUC', 'UAC', 'GUC', 'AGA', 'UGC', 'GAU', 'AUG', 'ACC', 'GCC', 'UAC', 'AUC', 'CCU', 'AUU', 'AGG', 'UGC', 'UUU', 'GUU', 'GCC', 'AAG', 'UUG', 'GGU', 'GCG', 'CAC', 'UUC', 'ACU', 'AGC', 'CAU', 'CGA', 'GAG', 'AAG', 'AAG', 'ACU', 'GUC', 'GUA', 'AAG', 'AAC', 'AUU', 'GGA', 'AAA', 'CAA', 'GCC', 'AUA', 'AGA', 'ACU', 'AGC', 'CCG', 'UUU', 'GUC', 'CGA', 'UCC', 'AGU', 'CAA', 'CAU', 'ACG', 'AGG', 'ACA', 'AUU', 'GGG', 'AUC', 'UGC', 'AGG', 'GGG', 'UUC', 'CCU', 'CAC', 'CUU', 'ACA', 'AUC', 'GAU', 'CAC', 'GAC', 'AUU', 'AUA', 'GAA', 'UUA', 'GUC', 'CUC', 'AUU', 'AAA', 'ACC', 'ACA', 'UUC', 'ACG', 'GUU', 'GUA', 'AAC', 'ACU', 'CAG', 'UUA', 'UUG', 'CGU', 'CAG', 'GAU', 'GGA', 'AGC', 'GAU', 'AGC', 'CUG', 'UUC', 'AGG', 'CUC', 'ACG', 'CGG', 'AUG', 'GGA', 'UCA', 'UAC', 'GUA', 'CUA', 'ACA', 'CGG', 'UGC', 'CGU', 'UCC', 'UGC', 'CUC', 'CGU', 'UUC', 'GAG', 'AAC', 'CGC', 'GCA', 'UAU', 'UGU', 'CCU', 'AAU', 'GAA', 'GCG', 'GCG', 'CGC', 'CAA', 'GUU', 'GUG', 'AAU', 'GUA', 'AAC', 'GUC', 'CAC', 'ACG', 'UAA']\n"
     ]
    }
   ],
   "source": [
    "codons = []\n",
    "trinca = \"\"\n",
    "for i in range (0, (len(RNA)), 3):\n",
    "    trinca += RNA[i:i+3]\n",
    "    codons.append(trinca)\n",
    "    trinca = \"\"\n",
    "    \n",
    "print (codons)"
   ]
  },
  {
   "cell_type": "code",
   "execution_count": 5,
   "id": "9e905f92",
   "metadata": {},
   "outputs": [
    {
     "name": "stdout",
     "output_type": "stream",
     "text": [
      "MRRGLSYNSVRVAYRPSDQGAVLPCPCRLPSYQHLHPDSLAADLDTFYVRCDMTAYIPIRCFVAKLGAHFTSHREKKTVVKNIGKQAIRTSPFVRSSQHTRTIGICRGFPHLTIDHDIIELVLIKTTFTVVNTQLLRQDGSDSLFRLTRMGSYVLTRCRSCLRFENRAYCPNEAARQVVNVNVHT\n"
     ]
    }
   ],
   "source": [
    "bruto = \"UUU F      CUU L      AUU I      GUU V UUC F      CUC L      AUC I      GUC V UUA L      CUA L      AUA I      GUA V UUG L      CUG L      AUG M      GUG V UCU S      CCU P      ACU T      GCU A UCC S      CCC P      ACC T      GCC A UCA S      CCA P      ACA T      GCA A UCG S      CCG P      ACG T      GCG A UAU Y      CAU H      AAU N      GAU D UAC Y      CAC H      AAC N      GAC D UAA Stop   CAA Q      AAA K      GAA E UAG Stop   CAG Q      AAG K      GAG E UGU C      CGU R      AGU S      GGU G UGC C      CGC R      AGC S      GGC G UGA Stop   CGA R      AGA R      GGA G UGG W      CGG R      AGG R      GGG G\"\n",
    "bruto = bruto.split()\n",
    "\n",
    "tabela = {}\n",
    "for i in range (0, (len(bruto)), 2):\n",
    "    tabela[bruto[i]] = bruto[i+1]\n",
    "\n",
    "traduzido = \"\" \n",
    "for codon in codons:\n",
    "    if codon in tabela and tabela[codon] != \"Stop\":\n",
    "        traduzido += tabela[codon]\n",
    "    else:\n",
    "        break\n",
    "                        \n",
    "print (traduzido)"
   ]
  },
  {
   "cell_type": "code",
   "execution_count": null,
   "id": "4a574094",
   "metadata": {},
   "outputs": [],
   "source": []
  }
 ],
 "metadata": {
  "kernelspec": {
   "display_name": "Python 3 (ipykernel)",
   "language": "python",
   "name": "python3"
  },
  "language_info": {
   "codemirror_mode": {
    "name": "ipython",
    "version": 3
   },
   "file_extension": ".py",
   "mimetype": "text/x-python",
   "name": "python",
   "nbconvert_exporter": "python",
   "pygments_lexer": "ipython3",
   "version": "3.9.7"
  }
 },
 "nbformat": 4,
 "nbformat_minor": 5
}
