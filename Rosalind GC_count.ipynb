{
 "cells": [
  {
   "cell_type": "code",
   "execution_count": 259,
   "id": "782b0e60",
   "metadata": {},
   "outputs": [
    {
     "name": "stdout",
     "output_type": "stream",
     "text": [
      "Rosalind_0577\n",
      "53.156146\n"
     ]
    }
   ],
   "source": [
    "with open (\"rosalind_gc.txt\", \"r\") as input_file:\n",
    "    lines = input_file.readlines()\n",
    "    \n",
    "    fasta_IDs = []\n",
    "    fastas = []\n",
    "    fasta_seq = \"\"\n",
    "    for line in lines:\n",
    "        if line[0] == \">\":\n",
    "            fasta_ID = line[1:].strip()\n",
    "            fasta_IDs.append(fasta_ID)\n",
    "            if fasta_seq != \"\":\n",
    "                fastas.append(fasta_seq)\n",
    "                fasta_seq = \"\"\n",
    "        else:\n",
    "            fasta_seq = fasta_seq + line.strip()\n",
    "            \n",
    "    gcs = []\n",
    "    for seqs in fastas:\n",
    "        gc = 0\n",
    "        for char in seqs:\n",
    "            if char == \"C\" or char == \"G\":\n",
    "                gc += 1\n",
    "        gc_count = round( ((gc / len(seqs))*100), 6)\n",
    "        gcs.append(gc_count)\n",
    "        \n",
    "    maximum = max(gcs)\n",
    "\n",
    "    dic = {}\n",
    "    for i in range (len(gcs)):\n",
    "        dic[fasta_IDs[i]] = gcs[i]\n",
    "    \n",
    "    for key, value in dic.items():\n",
    "        if value == maximum:\n",
    "            print (key)\n",
    "            print (value)"
   ]
  },
  {
   "cell_type": "code",
   "execution_count": 258,
   "id": "845b9b2c",
   "metadata": {},
   "outputs": [
    {
     "name": "stdout",
     "output_type": "stream",
     "text": [
      ">Rosalind_0577 : 53.156146\n"
     ]
    }
   ],
   "source": [
    "with open (\"rosalind_gc.txt\", \"r\") as sequences:\n",
    "    lines = sequences.readlines()\n",
    "    rosa_str = ''\n",
    "    dict_rosalind = {}\n",
    "    for line in lines:\n",
    "        if '>'in line:\n",
    "            if rosa_str == '':\n",
    "                dict_key = line.replace('\\n','')\n",
    "            else:\n",
    "                dict_rosalind.update({dict_key:rosa_str})\n",
    "                dict_key = line.replace('\\n','')\n",
    "                rosa_str = ''\n",
    "        else:\n",
    "            rosa_str = rosa_str + line.replace('\\n','')\n",
    "dict_porc_gc = {}\n",
    "for item in dict_rosalind:\n",
    "    tam_item = len(dict_rosalind[item])\n",
    "    contador = 0\n",
    "    for c in dict_rosalind[item]:\n",
    "        if c in ['G','C']:\n",
    "            contador = contador + 1\n",
    "    dict_porc_gc.update({round((contador/tam_item)*100,6):item})\n",
    "print (dict_porc_gc[max(dict_porc_gc)], ':', max(dict_porc_gc))\n"
   ]
  },
  {
   "cell_type": "code",
   "execution_count": null,
   "id": "28e12b3a",
   "metadata": {},
   "outputs": [],
   "source": []
  }
 ],
 "metadata": {
  "kernelspec": {
   "display_name": "Python 3 (ipykernel)",
   "language": "python",
   "name": "python3"
  },
  "language_info": {
   "codemirror_mode": {
    "name": "ipython",
    "version": 3
   },
   "file_extension": ".py",
   "mimetype": "text/x-python",
   "name": "python",
   "nbconvert_exporter": "python",
   "pygments_lexer": "ipython3",
   "version": "3.9.7"
  }
 },
 "nbformat": 4,
 "nbformat_minor": 5
}
