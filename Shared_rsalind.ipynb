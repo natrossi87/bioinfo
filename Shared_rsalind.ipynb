{
 "cells": [
  {
   "cell_type": "code",
   "execution_count": 33,
   "id": "51747349",
   "metadata": {},
   "outputs": [],
   "source": [
    "with open (\"rosalind_lcsm-3.txt\", \"r\") as data:\n",
    "    lines = data.readlines()\n",
    "\n",
    "sequencias = []\n",
    "string = \"\"\n",
    "\n",
    "for line in lines:\n",
    "    if line[0] == \">\":\n",
    "        if string != \"\":\n",
    "            sequencias.append(string)\n",
    "            string = \"\"\n",
    "    else:\n",
    "        string += line.strip().replace(\"\\n\", \"\")\n",
    "sequencias.append(string)\n",
    "\n",
    "sequencias = sorted(sequencias, key = len, reverse = True)"
   ]
  },
  {
   "cell_type": "code",
   "execution_count": 34,
   "id": "3d8c4c13",
   "metadata": {},
   "outputs": [
    {
     "name": "stdout",
     "output_type": "stream",
     "text": [
      "TAAACGCATCGCGGGCCTATTTTTCTTCCTTGCCTCCTTCGGAAATATAGCTGTTACCCGACGTATGTCCCATGCAATAGAAGATCGATCAATAAATGTACCGTTGAACCTGCCACGGTTTACGGGTTAAGTAGGGTCGGACGTTTAAAAGAGGGAGCCGAGAAGCTG\n"
     ]
    }
   ],
   "source": [
    "maior_seq = sequencias[0]\n",
    "tamanho_maior = len(maior_seq)\n",
    "menor_seq = sequencias[-1]\n",
    "tamanho_menor = len(menor_seq)\n",
    "\n",
    "seqs_comuns = []\n",
    "\n",
    "for posicao_seq in range (tamanho_maior):\n",
    "    for tamanho_slice in range (2, tamanho_menor):\n",
    "        fragmento = maior_seq[posicao_seq : posicao_seq + tamanho_slice]\n",
    "        contador = 0\n",
    "        for seq in sequencias:\n",
    "            if fragmento not in seq:\n",
    "                break\n",
    "            else:\n",
    "                contador += 1\n",
    "                if contador == len(sequencias) and fragmento not in seqs_comuns:\n",
    "                    seqs_comuns.append(fragmento)\n",
    "\n",
    "seqs_comuns = sorted(seqs_comuns, key = len, reverse = True)\n",
    "                    \n",
    "print (seqs_comuns[0])"
   ]
  },
  {
   "cell_type": "code",
   "execution_count": null,
   "id": "d0333b3a",
   "metadata": {},
   "outputs": [],
   "source": []
  },
  {
   "cell_type": "code",
   "execution_count": 37,
   "id": "d8afad74",
   "metadata": {},
   "outputs": [
    {
     "name": "stdout",
     "output_type": "stream",
     "text": [
      "GGTTTGCTCCATTCGCGGGATGGATATGGTCGGCCCAGCAATCATATGACTCGTGGTGACATTTTGTATGACACTCGTGATCGACTTTGTCCCCTACCATCGCTCAGGGGTACAGGGAAGCTGGCCGGGGCACTCGCGAGACCCCCCATGTGAAACGTCCCCCGCGACTTCGGTGCGGTAAA\n"
     ]
    }
   ],
   "source": [
    "with open (\"rosalind_lcsm-3.txt\", \"r\") as data:\n",
    "    lines = data.readlines()\n",
    "\n",
    "sequencias = []\n",
    "string = \"\"\n",
    "\n",
    "for line in lines:\n",
    "    if line[0] == \">\":\n",
    "        if string != \"\":\n",
    "            sequencias.append(string)\n",
    "            string = \"\"\n",
    "    else:\n",
    "        string += line.strip().replace(\"\\n\", \"\")\n",
    "sequencias.append(string)\n",
    "\n",
    "\n",
    "sequencias = sorted(sequencias, key = len)\n",
    "\n",
    "sequencia_maior = sequencias[-1]\n",
    "tamanho_maior = len(sequencia_maior)\n",
    "sequencia_menor = sequencias[0]\n",
    "tamanho_menor = len(sequencia_menor)\n",
    "\n",
    "maior = \"\"\n",
    "for posicao in range (tamanho_menor):\n",
    "    for tamanho_slice in range (tamanho_menor, 2, -1):\n",
    "        fragmento = sequencia_menor[posicao:tamanho_slice]\n",
    "        contador = 0\n",
    "        for seq in sequencias:\n",
    "            if fragmento not in seq:\n",
    "                break\n",
    "            else:\n",
    "                contador += 1\n",
    "                if contador == len(sequencias):\n",
    "                    if len(fragmento) > len(maior):\n",
    "                        maior = fragmento\n",
    "                    else:\n",
    "                        break\n",
    "                        \n",
    "print (maior)\n"
   ]
  },
  {
   "cell_type": "code",
   "execution_count": null,
   "id": "76dbf17b",
   "metadata": {},
   "outputs": [],
   "source": []
  }
 ],
 "metadata": {
  "kernelspec": {
   "display_name": "Python 3 (ipykernel)",
   "language": "python",
   "name": "python3"
  },
  "language_info": {
   "codemirror_mode": {
    "name": "ipython",
    "version": 3
   },
   "file_extension": ".py",
   "mimetype": "text/x-python",
   "name": "python",
   "nbconvert_exporter": "python",
   "pygments_lexer": "ipython3",
   "version": "3.9.7"
  }
 },
 "nbformat": 4,
 "nbformat_minor": 5
}
