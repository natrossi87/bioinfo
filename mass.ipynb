{
 "cells": [
  {
   "cell_type": "code",
   "execution_count": 67,
   "id": "4f36e8ab",
   "metadata": {},
   "outputs": [
    {
     "name": "stdout",
     "output_type": "stream",
     "text": [
      "93990.962\n"
     ]
    }
   ],
   "source": [
    "with open (\"rosalind_prtm.txt\", \"r\") as dataset:\n",
    "    dataset = dataset.readline()\n",
    "\n",
    "\n",
    "aa_seq = dataset\n",
    "\n",
    "aa_dic = {}\n",
    "\n",
    "tabela = \"A 71.03711 C 103.00919 D 115.02694 E 129.04259 F 147.06841 G 57.02146 H 137.05891 I 113.08406 K 128.09496 L 113.08406 M 131.04049 N 114.04293 P 97.05276 Q 128.05858 R 156.10111 S 87.03203 T 101.04768 V 99.06841 W 186.07931 Y 163.06333\"\n",
    "tabela = tabela.split()\n",
    "\n",
    "for i in range (0, (len(tabela)), 2):\n",
    "        aa_dic[tabela[i]] = tabela[i+1]\n",
    "        \n",
    "massa = 0\n",
    "for aa in aa_seq:\n",
    "    if aa in aa_dic.keys():\n",
    "        massa += float(aa_dic[aa])\n",
    "           \n",
    "print (round(massa, 3))"
   ]
  },
  {
   "cell_type": "code",
   "execution_count": null,
   "id": "c02c193c",
   "metadata": {},
   "outputs": [],
   "source": []
  }
 ],
 "metadata": {
  "kernelspec": {
   "display_name": "Python 3 (ipykernel)",
   "language": "python",
   "name": "python3"
  },
  "language_info": {
   "codemirror_mode": {
    "name": "ipython",
    "version": 3
   },
   "file_extension": ".py",
   "mimetype": "text/x-python",
   "name": "python",
   "nbconvert_exporter": "python",
   "pygments_lexer": "ipython3",
   "version": "3.9.7"
  }
 },
 "nbformat": 4,
 "nbformat_minor": 5
}
